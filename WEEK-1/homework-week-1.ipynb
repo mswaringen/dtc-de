{
 "cells": [
  {
   "cell_type": "markdown",
   "metadata": {},
   "source": [
    "# Homework Week 1"
   ]
  },
  {
   "cell_type": "markdown",
   "metadata": {},
   "source": [
    "### Question 1. Understanding docker first run\n",
    "Run docker with the python:3.12.8 image in an interactive mode, use the entrypoint bash.\n",
    "\n",
    "What's the version of pip in the image?"
   ]
  },
  {
   "cell_type": "code",
   "execution_count": null,
   "metadata": {},
   "outputs": [],
   "source": [
    "docker run -it --entrypoint bash python:3.12.8\n",
    "pip --version\n",
    "# pip 24.3.1 from /usr/local/lib/python3.12/site-packages/pip (python 3.12)"
   ]
  },
  {
   "cell_type": "markdown",
   "metadata": {},
   "source": [
    "ANSWER: 24.3.1"
   ]
  },
  {
   "cell_type": "markdown",
   "metadata": {},
   "source": [
    "### Prepare Postgres\n",
    "- Modified script to ingest green_taxi data\n",
    "- Modified dockerfile to include green_taxi script\n",
    "- docker build -t yellow-taxi-pipeline:v5 .\n",
    "- docker compose up -d --build\n",
    "- docker compose run --rm data-loader python scripts/pipeline-green.py /app/data/green_tripdata_2019-10.csv"
   ]
  },
  {
   "cell_type": "markdown",
   "metadata": {},
   "source": [
    "### Question 2. Understanding Docker networking and docker-compose\n",
    "Given the following docker-compose.yaml, what is the hostname and port that pgadmin should use to connect to the postgres database?"
   ]
  },
  {
   "cell_type": "markdown",
   "metadata": {},
   "source": [
    "ANSWER: postgres:5432"
   ]
  },
  {
   "cell_type": "markdown",
   "metadata": {},
   "source": [
    "### Question 3. Trip Segmentation Count\n",
    "During the period of October 1st 2019 (inclusive) and November 1st 2019 (exclusive), how many trips, respectively, happened:\n",
    "\n",
    "Up to 1 mile\n",
    "In between 1 (exclusive) and 3 miles (inclusive),\n",
    "In between 3 (exclusive) and 7 miles (inclusive),\n",
    "In between 7 (exclusive) and 10 miles (inclusive),\n",
    "Over 10 miles"
   ]
  },
  {
   "cell_type": "code",
   "execution_count": null,
   "metadata": {
    "vscode": {
     "languageId": "sql"
    }
   },
   "outputs": [],
   "source": [
    "WITH TripCategories AS (\n",
    "    SELECT\n",
    "        CASE\n",
    "            WHEN trip_distance <= 1 THEN 'Up to 1 mile'\n",
    "            WHEN trip_distance > 1 AND trip_distance <= 3 THEN '1-3 miles'\n",
    "            WHEN trip_distance > 3 AND trip_distance <= 7 THEN '3-7 miles'\n",
    "            WHEN trip_distance > 7 AND trip_distance <= 10 THEN '7-10 miles'\n",
    "            WHEN trip_distance > 10 THEN 'Over 10 miles'\n",
    "            ELSE 'Unknown' -- Handle cases where trip_distance is NULL or invalid\n",
    "        END as trip_category\n",
    "    FROM\n",
    "        public.green_taxi_data\n",
    "    WHERE\n",
    "        lpep_pickup_datetime >= '2019-10-01' AND lpep_pickup_datetime < '2019-11-01'\n",
    ")\n",
    "SELECT\n",
    "    trip_category,\n",
    "    COUNT(*) as trip_count\n",
    "FROM\n",
    "    TripCategories\n",
    "GROUP BY\n",
    "    trip_category\n",
    "ORDER BY\n",
    "    CASE trip_category\n",
    "        WHEN 'Up to 1 mile' THEN 1\n",
    "        WHEN '1-3 miles' THEN 2\n",
    "        WHEN '3-7 miles' THEN 3\n",
    "        WHEN '7-10 miles' THEN 4\n",
    "        WHEN 'Over 10 miles' THEN 5\n",
    "        ELSE 6 -- Ensure 'Unknown' category is last\n",
    "    END;"
   ]
  },
  {
   "cell_type": "markdown",
   "metadata": {},
   "source": [
    "ANSWER: 104,802; 198,924; 109,603; 27,678; 35,189"
   ]
  },
  {
   "cell_type": "markdown",
   "metadata": {},
   "source": [
    "### Question 4. Longest trip for each day\n",
    "Which was the pick up day with the longest trip distance? Use the pick up time for your calculations.\n",
    "\n",
    "Tip: For every day, we only care about one single trip with the longest distance."
   ]
  },
  {
   "cell_type": "code",
   "execution_count": null,
   "metadata": {
    "vscode": {
     "languageId": "sql"
    }
   },
   "outputs": [],
   "source": [
    "WITH DailyMaxTrips AS (\n",
    "    SELECT\n",
    "        DATE(lpep_pickup_datetime) AS pickup_day,\n",
    "        MAX(trip_distance) AS max_trip_distance\n",
    "    FROM\n",
    "        public.green_taxi_data\n",
    "    GROUP BY\n",
    "        pickup_day\n",
    ")\n",
    "SELECT\n",
    "    pickup_day\n",
    "FROM\n",
    "    DailyMaxTrips\n",
    "ORDER BY\n",
    "    max_trip_distance DESC\n",
    "LIMIT 1;"
   ]
  },
  {
   "cell_type": "markdown",
   "metadata": {},
   "source": [
    "ANSWER: 2019-10-31"
   ]
  },
  {
   "cell_type": "markdown",
   "metadata": {},
   "source": [
    "### Question 5. Three biggest pickup zones\n",
    "Which were the top pickup locations with over 13,000 in total_amount (across all trips) for 2019-10-18?\n",
    "\n",
    "Consider only lpep_pickup_datetime when filtering by date.\n",
    "\n",
    "East Harlem North, East Harlem South, Morningside Heights\n",
    "East Harlem North, Morningside Heights\n",
    "Morningside Heights, Astoria Park, East Harlem South\n",
    "Bedford, East Harlem North, Astoria Park"
   ]
  },
  {
   "cell_type": "code",
   "execution_count": null,
   "metadata": {
    "vscode": {
     "languageId": "sql"
    }
   },
   "outputs": [],
   "source": [
    "SELECT\n",
    "    CONCAT(zpu.\"Borough\", ' / ', zpu.\"Zone\") AS \"pickup_loc\"\n",
    "FROM\n",
    "    public.green_taxi_data t\n",
    "JOIN\n",
    "    public.zones zpu ON t.\"PULocationID\" = zpu.\"LocationID\"\n",
    "WHERE\n",
    "    DATE(t.lpep_pickup_datetime) = '2019-10-18'\n",
    "GROUP BY\n",
    "    pickup_loc\n",
    "HAVING\n",
    "    SUM(t.total_amount) > 13000\n",
    "ORDER BY\n",
    "    SUM(t.total_amount) DESC\n",
    "LIMIT 3;"
   ]
  },
  {
   "cell_type": "markdown",
   "metadata": {},
   "source": [
    "ANSWER: East Harlem North, East Harlem South, Morningside Heights"
   ]
  },
  {
   "cell_type": "markdown",
   "metadata": {},
   "source": [
    "### Question 6. Largest tip\n",
    "For the passengers picked up in October 2019 in the zone named \"East Harlem North\" which was the drop off zone that had the largest tip?\n",
    "\n",
    "Note: it's tip , not trip\n",
    "\n",
    "We need the name of the zone, not the ID.\n",
    "\n",
    "Yorkville West\n",
    "JFK Airport\n",
    "East Harlem North\n",
    "East Harlem South"
   ]
  },
  {
   "cell_type": "code",
   "execution_count": null,
   "metadata": {
    "vscode": {
     "languageId": "sql"
    }
   },
   "outputs": [],
   "source": [
    "SELECT\n",
    "    CONCAT(zdo.\"Borough\", ' / ', zdo.\"Zone\") AS dropoff_zone\n",
    "FROM\n",
    "    public.green_taxi_data t\n",
    "JOIN\n",
    "    public.zones zpu ON t.\"PULocationID\" = zpu.\"LocationID\"\n",
    "JOIN\n",
    "    public.zones zdo ON t.\"DOLocationID\" = zdo.\"LocationID\"\n",
    "WHERE\n",
    "    zpu.\"Zone\" = 'East Harlem North'\n",
    "    AND DATE(t.lpep_pickup_datetime) BETWEEN '2019-10-01' AND '2019-10-31'\n",
    "ORDER BY\n",
    "    t.tip_amount DESC\n",
    "LIMIT 1;"
   ]
  },
  {
   "cell_type": "markdown",
   "metadata": {},
   "source": [
    "ANSWER: JFK Airport"
   ]
  },
  {
   "cell_type": "markdown",
   "metadata": {},
   "source": [
    "### Question 7. Terraform Workflow\n",
    "Which of the following sequences, respectively, describes the workflow for:\n",
    "\n",
    "Downloading the provider plugins and setting up backend,\n",
    "Generating proposed changes and auto-executing the plan\n",
    "Remove all resources managed by terraform`\n",
    "Answers:\n",
    "\n",
    "terraform import, terraform apply -y, terraform destroy\n",
    "teraform init, terraform plan -auto-apply, terraform rm\n",
    "terraform init, terraform run -auto-approve, terraform destroy\n",
    "terraform init, terraform apply -auto-approve, terraform destroy\n",
    "terraform import, terraform apply -y, terraform rm"
   ]
  },
  {
   "cell_type": "markdown",
   "metadata": {},
   "source": [
    "ANSWER: terraform init, terraform apply -auto-approve, terraform destroy"
   ]
  }
 ],
 "metadata": {
  "language_info": {
   "name": "python"
  }
 },
 "nbformat": 4,
 "nbformat_minor": 2
}
